{
 "cells": [
  {
   "cell_type": "code",
   "execution_count": 1,
   "metadata": {},
   "outputs": [
    {
     "name": "stdout",
     "output_type": "stream",
     "text": [
      "Requirement already satisfied: pyttsx3 in c:\\users\\urvi\\appdata\\local\\programs\\python\\python310\\lib\\site-packages (2.90)\n",
      "Requirement already satisfied: pypiwin32 in c:\\users\\urvi\\appdata\\local\\programs\\python\\python310\\lib\\site-packages (from pyttsx3) (223)\n",
      "Requirement already satisfied: comtypes in c:\\users\\urvi\\appdata\\local\\programs\\python\\python310\\lib\\site-packages (from pyttsx3) (1.2.0)\n",
      "Requirement already satisfied: pywin32 in c:\\users\\urvi\\appdata\\roaming\\python\\python310\\site-packages (from pyttsx3) (306)\n",
      "Note: you may need to restart the kernel to use updated packages.\n"
     ]
    },
    {
     "name": "stderr",
     "output_type": "stream",
     "text": [
      "WARNING: You are using pip version 21.2.3; however, version 23.2.1 is available.\n",
      "You should consider upgrading via the 'c:\\Users\\Urvi\\AppData\\Local\\Programs\\Python\\Python310\\python.exe -m pip install --upgrade pip' command.\n"
     ]
    }
   ],
   "source": [
    "pip install pyttsx3"
   ]
  },
  {
   "cell_type": "code",
   "execution_count": 2,
   "metadata": {},
   "outputs": [],
   "source": [
    "import tkinter as tk\n",
    "from tkinter import *\n",
    "from tkinter import filedialog\n",
    "from tkinter.ttk import Combobox\n",
    "import pyttsx3\n",
    "import os"
   ]
  },
  {
   "cell_type": "code",
   "execution_count": 3,
   "metadata": {},
   "outputs": [],
   "source": [
    "audio_root = Tk()\n",
    "audio_root.title(\"Text to Speech\")\n",
    "audio_root.geometry(\"1000x500+200+200\")\n",
    "audio_root.resizable(False,False)\n",
    "audio_root.configure(bg=\"#F89880\")"
   ]
  },
  {
   "cell_type": "code",
   "execution_count": 4,
   "metadata": {},
   "outputs": [],
   "source": [
    "engine = pyttsx3.init()\n",
    "def speaknow():\n",
    "    text= text_area.get(1.0,END)\n",
    "    gender = gender_combobox.get()\n",
    "    speed = speed_combobox.get()\n",
    "    voices = engine.getProperty('voices')\n",
    "    def setvoice():\n",
    "        if(gender == 'Male'):\n",
    "            engine.setProperty('voice',voices[0].id)\n",
    "            engine.say(text)\n",
    "            engine.runAndWait()\n",
    "        else:\n",
    "            engine.setProperty('voice',voices[1].id)\n",
    "            engine.say(text)\n",
    "            engine.runAndWait()\n",
    "    if(text):\n",
    "        if(speed==\"Fast\"):\n",
    "            engine.setProperty('rate',250)\n",
    "            setvoice()\n",
    "        elif(speed == \"Normal\"):\n",
    "            engine.setProperty('rate',150)\n",
    "            setvoice()\n",
    "        else:\n",
    "            engine.setproperty('rate',60)\n",
    "            setvoice()\n",
    "\n",
    "\n"
   ]
  },
  {
   "cell_type": "code",
   "execution_count": 5,
   "metadata": {},
   "outputs": [],
   "source": [
    "def download():\n",
    "    text= text_area.get(1.0,END)\n",
    "    gender = gender_combobox.get()\n",
    "    speed = speed_combobox.get()\n",
    "    voices = engine.getProperty('voices')\n",
    "    def setvoice():\n",
    "        if(gender == 'Male'):\n",
    "            engine.setProperty('voice',voices[0].id)\n",
    "            path = filedialog.askdirectory()\n",
    "            os.chidr(path)\n",
    "            engine.save_to_file(text,'text.mp3')\n",
    "            engine.runAndWait()\n",
    "        else:\n",
    "            engine.setProperty('voice',voices[1].id)\n",
    "            path = filedialog.askdirectory()\n",
    "            os.chidr(path)\n",
    "            engine.save_to_file(text,'text.mp3')\n",
    "            engine.runAndWait()\n",
    "    if(text):\n",
    "        if(speed==\"Fast\"):\n",
    "            engine.setProperty('rate',250)\n",
    "            setvoice()\n",
    "        elif(speed == \"Normal\"):\n",
    "            engine.setProperty('rate',150)\n",
    "            setvoice()\n",
    "        else:\n",
    "            engine.setproperty('rate',60)\n",
    "            setvoice()\n",
    "\n",
    "\n"
   ]
  },
  {
   "cell_type": "code",
   "execution_count": 6,
   "metadata": {},
   "outputs": [],
   "source": [
    "image_icon=PhotoImage(file=\"download.png\")\n",
    "audio_root.iconphoto(False,image_icon)"
   ]
  },
  {
   "cell_type": "markdown",
   "metadata": {},
   "source": []
  },
  {
   "cell_type": "code",
   "execution_count": 7,
   "metadata": {},
   "outputs": [],
   "source": [
    "Top_frame = Frame(audio_root,bg=\"orange\",width=1000,height=100)\n",
    "Top_frame.place(x=0,y=0)\n"
   ]
  },
  {
   "cell_type": "code",
   "execution_count": 8,
   "metadata": {},
   "outputs": [],
   "source": [
    "Label(Top_frame,text=\"TEXT TO SPEECH\",font=\"arial 20 bold\",bg=\"white\",fg=\"navy blue\").place(x=50,y=30)"
   ]
  },
  {
   "cell_type": "code",
   "execution_count": 9,
   "metadata": {},
   "outputs": [],
   "source": [
    "text_area = Text(audio_root,font=\"Robote 20\",bg = \"white\",relief=GROOVE,wrap=WORD)\n",
    "text_area.place(x=10,y=150,width = 500,height= 250 )"
   ]
  },
  {
   "cell_type": "code",
   "execution_count": 10,
   "metadata": {},
   "outputs": [],
   "source": [
    "Label(audio_root,text=\"VOICE\",font=\"arial 15 bold\",bg=\"#F89880\",fg=\"white\").place(x=550,y=160)\n",
    "Label(audio_root,text=\"SPEED\",font=\"arial 15 bold\",bg=\"#F89880\",fg=\"white\").place(x=750,y=160)"
   ]
  },
  {
   "cell_type": "code",
   "execution_count": 11,
   "metadata": {},
   "outputs": [],
   "source": [
    "gender_combobox = Combobox(audio_root,values = ['Male','Female'],font=\"arial 14\",state = 'r',width=10)\n",
    "gender_combobox.place(x=550,y=200)\n",
    "gender_combobox.set('Male')"
   ]
  },
  {
   "cell_type": "code",
   "execution_count": 12,
   "metadata": {},
   "outputs": [],
   "source": [
    "speed_combobox = Combobox(audio_root,values = ['Fast','Normal','Slow'],font=\"arial 14\",state = 'r',width=10)\n",
    "speed_combobox.place(x=750,y=200)\n",
    "speed_combobox.set('Normal')"
   ]
  },
  {
   "cell_type": "code",
   "execution_count": 13,
   "metadata": {},
   "outputs": [],
   "source": [
    "btn=Button(audio_root,text=\"Speak\",compound=LEFT,width=10,font=\"arial 14 bold\",command=speaknow)\n",
    "btn.place(x=550,y=280)"
   ]
  },
  {
   "cell_type": "code",
   "execution_count": 14,
   "metadata": {},
   "outputs": [],
   "source": [
    "save=Button(audio_root,text=\"Save\",compound=LEFT,width=10,font=\"arial 14 bold\",command=download)\n",
    "save.place(x=750,y=280)"
   ]
  },
  {
   "cell_type": "code",
   "execution_count": 15,
   "metadata": {},
   "outputs": [
    {
     "name": "stderr",
     "output_type": "stream",
     "text": [
      "Exception in Tkinter callback\n",
      "Traceback (most recent call last):\n",
      "  File \"c:\\Users\\Urvi\\AppData\\Local\\Programs\\Python\\Python310\\lib\\tkinter\\__init__.py\", line 1921, in __call__\n",
      "    return self.func(*args)\n",
      "  File \"C:\\Users\\Urvi\\AppData\\Local\\Temp\\ipykernel_18172\\2694113518.py\", line 24, in speaknow\n",
      "    engine.setproperty('rate',60)\n",
      "AttributeError: 'Engine' object has no attribute 'setproperty'\n",
      "Exception in Tkinter callback\n",
      "Traceback (most recent call last):\n",
      "  File \"c:\\Users\\Urvi\\AppData\\Local\\Programs\\Python\\Python310\\lib\\tkinter\\__init__.py\", line 1921, in __call__\n",
      "    return self.func(*args)\n",
      "  File \"C:\\Users\\Urvi\\AppData\\Local\\Temp\\ipykernel_18172\\2694113518.py\", line 24, in speaknow\n",
      "    engine.setproperty('rate',60)\n",
      "AttributeError: 'Engine' object has no attribute 'setproperty'\n",
      "Exception in Tkinter callback\n",
      "Traceback (most recent call last):\n",
      "  File \"c:\\Users\\Urvi\\AppData\\Local\\Programs\\Python\\Python310\\lib\\tkinter\\__init__.py\", line 1921, in __call__\n",
      "    return self.func(*args)\n",
      "  File \"C:\\Users\\Urvi\\AppData\\Local\\Temp\\ipykernel_18172\\2694113518.py\", line 24, in speaknow\n",
      "    engine.setproperty('rate',60)\n",
      "AttributeError: 'Engine' object has no attribute 'setproperty'\n",
      "Exception in Tkinter callback\n",
      "Traceback (most recent call last):\n",
      "  File \"c:\\Users\\Urvi\\AppData\\Local\\Programs\\Python\\Python310\\lib\\tkinter\\__init__.py\", line 1921, in __call__\n",
      "    return self.func(*args)\n",
      "  File \"C:\\Users\\Urvi\\AppData\\Local\\Temp\\ipykernel_18172\\2694113518.py\", line 24, in speaknow\n",
      "    engine.setproperty('rate',60)\n",
      "AttributeError: 'Engine' object has no attribute 'setproperty'\n",
      "Exception in Tkinter callback\n",
      "Traceback (most recent call last):\n",
      "  File \"c:\\Users\\Urvi\\AppData\\Local\\Programs\\Python\\Python310\\lib\\tkinter\\__init__.py\", line 1921, in __call__\n",
      "    return self.func(*args)\n",
      "  File \"C:\\Users\\Urvi\\AppData\\Local\\Temp\\ipykernel_18172\\879533265.py\", line 27, in download\n",
      "    engine.setproperty('rate',60)\n",
      "AttributeError: 'Engine' object has no attribute 'setproperty'\n",
      "Exception in Tkinter callback\n",
      "Traceback (most recent call last):\n",
      "  File \"c:\\Users\\Urvi\\AppData\\Local\\Programs\\Python\\Python310\\lib\\tkinter\\__init__.py\", line 1921, in __call__\n",
      "    return self.func(*args)\n",
      "  File \"C:\\Users\\Urvi\\AppData\\Local\\Temp\\ipykernel_18172\\879533265.py\", line 27, in download\n",
      "    engine.setproperty('rate',60)\n",
      "AttributeError: 'Engine' object has no attribute 'setproperty'\n"
     ]
    }
   ],
   "source": [
    "audio_root.mainloop()"
   ]
  },
  {
   "cell_type": "code",
   "execution_count": null,
   "metadata": {},
   "outputs": [],
   "source": []
  },
  {
   "cell_type": "code",
   "execution_count": null,
   "metadata": {},
   "outputs": [],
   "source": []
  }
 ],
 "metadata": {
  "kernelspec": {
   "display_name": "Python 3",
   "language": "python",
   "name": "python3"
  },
  "language_info": {
   "codemirror_mode": {
    "name": "ipython",
    "version": 3
   },
   "file_extension": ".py",
   "mimetype": "text/x-python",
   "name": "python",
   "nbconvert_exporter": "python",
   "pygments_lexer": "ipython3",
   "version": "3.10.0"
  },
  "orig_nbformat": 4
 },
 "nbformat": 4,
 "nbformat_minor": 2
}
